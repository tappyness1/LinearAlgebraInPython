{
 "metadata": {
  "language_info": {
   "codemirror_mode": {
    "name": "ipython",
    "version": 3
   },
   "file_extension": ".py",
   "mimetype": "text/x-python",
   "name": "python",
   "nbconvert_exporter": "python",
   "pygments_lexer": "ipython3",
   "version": "3.8.3"
  },
  "orig_nbformat": 4,
  "kernelspec": {
   "name": "python3",
   "display_name": "Python 3.8.3 64-bit ('base': conda)"
  },
  "interpreter": {
   "hash": "f4887bd50a98139acba22dce32608113e9c39367e98f359f3d17adf55ad88d27"
  }
 },
 "nbformat": 4,
 "nbformat_minor": 2,
 "cells": [
  {
   "source": [
    "Eigenvalues and eigenvectors for matrices are two of the most-importance concepts of linear algebra. The word \"eigen\" is German for \"own\".\n",
    "\n",
    "An eigenvector of $A$ is a vector that points in its own (or complete opposite) direction upon multiplication by $A$."
   ],
   "cell_type": "markdown",
   "metadata": {}
  },
  {
   "cell_type": "code",
   "execution_count": 9,
   "metadata": {},
   "outputs": [
    {
     "output_type": "execute_result",
     "data": {
      "text/plain": [
       "array([0., 0., 0.])"
      ]
     },
     "metadata": {},
     "execution_count": 9
    }
   ],
   "source": [
    "A = np.array([[-1, 2, 4],\n",
    "             [0, 7, 12],\n",
    "             [0, 0, -4]])\n",
    "\n",
    "# if you multiply A with the 1st vector in the matrix below, then you will get a eigenvalue of 7.\n",
    "eigmat = np.array([0.2425356, 0.9701425, 0.0000000])\n",
    "\n",
    "# to find out, just do a scalar of 7 multiplied by the eigmat array.\n",
    "np.round(A@eigmat - 7*eigmat)"
   ]
  },
  {
   "source": [
    "Scalar Multiplies of Eigenvectors are Eigenvectors\n",
    "\n",
    "In the example above, you can just scale A down to any multiples using scalar multiplication on A. \n"
   ],
   "cell_type": "markdown",
   "metadata": {}
  },
  {
   "cell_type": "code",
   "execution_count": 10,
   "metadata": {},
   "outputs": [
    {
     "output_type": "execute_result",
     "data": {
      "text/plain": [
       "array([0., 0., 0.])"
      ]
     },
     "metadata": {},
     "execution_count": 10
    }
   ],
   "source": [
    "np.round(1/2*A@eigmat - 1/2*7*eigmat)"
   ]
  },
  {
   "cell_type": "code",
   "execution_count": 11,
   "metadata": {},
   "outputs": [
    {
     "output_type": "execute_result",
     "data": {
      "text/plain": [
       "array([0., 0., 0.])"
      ]
     },
     "metadata": {},
     "execution_count": 11
    }
   ],
   "source": [
    "np.round(3*A@eigmat - 3*7*eigmat)"
   ]
  },
  {
   "source": [
    "So, we can reasonably conclude that the scalar $\\lambda$ is an eigenvalue of $A$ with associated eigenvector $\\vec{v} \\neq \\vec{0}$\n",
    "\n"
   ],
   "cell_type": "markdown",
   "metadata": {}
  },
  {
   "source": [
    "### Properties of Solutions to Eigenvalue/Eigenvector\n",
    "\n",
    "1. An $n$ by $n$ matrix $A$ has, up to multiplicity, $n$ eigenvalues\n",
    "1. Even if A is a matrix consisting entirely of real numbers, some (or all) of its eigenvalues\n",
    "could be complex numbers.\n",
    "1. All complex eigenvalues must come in conjugate pairs, though, like 1 + 2$i$ and 1 − 2$i$."
   ],
   "cell_type": "markdown",
   "metadata": {}
  },
  {
   "cell_type": "code",
   "execution_count": 20,
   "metadata": {},
   "outputs": [
    {
     "output_type": "stream",
     "name": "stdout",
     "text": [
      "eigenvalues: \n[-1.  7. -4.] \n\neigenvectors: \n[[ 1.          0.24253563 -0.37898096]\n [ 0.          0.9701425  -0.68216573]\n [ 0.          0.          0.62531859]]\n"
     ]
    }
   ],
   "source": [
    "# to find the eigens, we can just call np.linalg.eig for square matrices\n",
    "\n",
    "eigvals = np.linalg.eig(A)[0]\n",
    "eigvecs = np.linalg.eig(A)[1]\n",
    "\n",
    "print (f\"eigenvalues: \\n{eigvals} \\n\")\n",
    "print (f\"eigenvectors: \\n{eigvecs}\")"
   ]
  },
  {
   "source": [
    "Here, we will show that the $\\lambda$ of matrix $A$ satisfy the property that the matrix $\\lambda I - A$ is not invertible, with determinant equal to zero."
   ],
   "cell_type": "markdown",
   "metadata": {}
  },
  {
   "cell_type": "code",
   "execution_count": 25,
   "metadata": {},
   "outputs": [
    {
     "output_type": "stream",
     "name": "stdout",
     "text": [
      "-0.0\n-0.0\n"
     ]
    }
   ],
   "source": [
    "# show that lambda of A satisfy the property that the matrix\n",
    "A = np.array([[1,2],\n",
    "              [1,1]])\n",
    "eigenvals = np.linalg.eig(A)[0]\n",
    "identity = np.identity(2)\n",
    "print (round(np.linalg.det(eigenvals[0]*identity - A), 3))\n",
    "print (round(np.linalg.det(eigenvals[1]*identity - A),3))"
   ]
  },
  {
   "source": [
    "If $\\lambda_1$, $\\lambda_2$, $\\lambda_3$, ..., $\\lambda_n$ of $A$ are distinct and $\\vec v_1$, $\\vec v_2$, ..., $\\vec v_n$, then this set of vectors forms the basis for the set of n-dimensional vectors. \n",
    "\n",
    "Thus, matrix $A$ having the above bases would mean that every $n$-dimensional vector can be expressed as a linear combination of these vectors. This is how principle component analysis is done, where the first eigenvector (the one with highest eigenvalue) is the most important \"variable\".\n",
    "\n",
    "When  you have $A\\vec{x}$, and using the fact that $A\\vec v_j = \\lambda_j \\vec v_j$, then we can do decomposition - \n",
    "\n",
    "$A\\vec{x} = c_1 \\lambda _1 \\vec v_1 + c_2 \\lambda _2 \\vec v_2 + ... + c_n \\lambda _n \\vec v_n$\n",
    "\n",
    "Multiplying iteratively - \n",
    "\n",
    "$AA\\vec x$\n",
    "\n",
    "$ = A(c_1 \\lambda _1 \\vec v_1 + c_2 \\lambda _2 \\vec v_2 + ... + c_n \\lambda _n \\vec v_n)$\n",
    "\n",
    "$ = c_1 \\lambda ^2_1 \\vec v_1 + c_2 \\lambda ^2_2 \\vec v_2 + ... + c_n \\lambda ^2_n \\vec v_n$\n",
    "\n",
    "or more generally - \n",
    "\n",
    "$A^tA\\vec x = c_1 \\lambda ^t_1 \\vec v_1 + c_2 \\lambda ^t_2 \\vec v_2 + ... + c_n \\lambda ^t_n \\vec v_n$\n",
    "\n"
   ],
   "cell_type": "markdown",
   "metadata": {}
  },
  {
   "cell_type": "code",
   "execution_count": null,
   "metadata": {},
   "outputs": [],
   "source": []
  }
 ]
}