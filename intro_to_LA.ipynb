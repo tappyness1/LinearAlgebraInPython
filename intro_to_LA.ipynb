{
 "metadata": {
  "language_info": {
   "codemirror_mode": {
    "name": "ipython",
    "version": 3
   },
   "file_extension": ".py",
   "mimetype": "text/x-python",
   "name": "python",
   "nbconvert_exporter": "python",
   "pygments_lexer": "ipython3",
   "version": "3.8.3"
  },
  "orig_nbformat": 4,
  "kernelspec": {
   "name": "python3",
   "display_name": "Python 3.8.3 64-bit ('base': conda)"
  },
  "interpreter": {
   "hash": "f4887bd50a98139acba22dce32608113e9c39367e98f359f3d17adf55ad88d27"
  }
 },
 "nbformat": 4,
 "nbformat_minor": 2,
 "cells": [
  {
   "source": [
    "# Linear Algebra in Python\n",
    "\n",
    "1. Introduction to Linear Algebra\n",
    "2. Matrix-Vector Equations\n",
    "3. Eigenvalues and Eigenvectors\n",
    "4. Principal Component Analysis\n",
    "\n",
    "The content is taken from \"Linear Algebra for Data Science in R\" in Datacamp. The purpose is to take the excellent content and code and put them here in Python code. \n",
    "\n",
    "## Introduction to Linear Algebra"
   ],
   "cell_type": "markdown",
   "metadata": {}
  },
  {
   "source": [
    "### Creating Vectors\n",
    "\n",
    "- To create a vector with the same numbers, use np.full. The R equivalnt is rep()\n",
    "- To create a vector in a sequence, use np.arange. The R equivalent is seq()\n",
    "- Manually create a vector using np.array. Use c() to create the same in R"
   ],
   "cell_type": "markdown",
   "metadata": {}
  },
  {
   "cell_type": "code",
   "execution_count": 1,
   "metadata": {},
   "outputs": [],
   "source": [
    "import numpy as np\n",
    "import matplotlib.pyplot as plt"
   ]
  },
  {
   "cell_type": "code",
   "execution_count": 2,
   "metadata": {},
   "outputs": [
    {
     "output_type": "stream",
     "name": "stdout",
     "text": [
      "[[5]\n [5]]\n\n[5 5]\n\n[1 3 5 7 9]\n\n[ 2  4  6  8 10]\n\n[2 3 1 0]\n"
     ]
    }
   ],
   "source": [
    "# create an array with 2 rows of 5\n",
    "arr_2row_of_5 = np.full((2,1), 5)\n",
    "print (arr_2row_of_5)\n",
    "print (\"\")\n",
    "#create a 2-column array of 5\n",
    "arr_2col_of_5 = np.full(2, 5)\n",
    "print (arr_2col_of_5)\n",
    "print (\"\")\n",
    "\n",
    "# Create an array of odd numbers up to 9\n",
    "# python excludes the last int, so use 10 in the stop arg\n",
    "arr_odd_nums = np.arange(1, 11, 2)\n",
    "print (arr_odd_nums)\n",
    "print (\"\")\n",
    "\n",
    "# Create an array of odd numbers up to 9\n",
    "arr_even_nums = np.arange(2, 12, 2)\n",
    "print (arr_even_nums)\n",
    "print (\"\")\n",
    "\n",
    "# create an array manually\n",
    "# takes a list or tuple. Here, we use list.\n",
    "arr_manual = np.array([2,3,1,0])\n",
    "print (arr_manual)"
   ]
  },
  {
   "source": [
    "### Operations\n",
    "\n",
    "- Addition\n",
    "- Scalar Multiplication\n",
    "- Component-wise Multiplication\n",
    "    - This means you will multiply x_i with y_i and so forth"
   ],
   "cell_type": "markdown",
   "metadata": {}
  },
  {
   "cell_type": "code",
   "execution_count": 3,
   "metadata": {},
   "outputs": [
    {
     "output_type": "stream",
     "name": "stdout",
     "text": [
      "[ 7 13 16 20]\n[4 6 2 0]\n[10 30 15  0]\n"
     ]
    }
   ],
   "source": [
    "x = np.array([2,3,1,0])\n",
    "y = np.array([5,10,15,20])\n",
    "\n",
    "# Add x to y and print\n",
    "print(x + y)\n",
    "\n",
    "# Multiply z by 2 and print\n",
    "print(2 * x)\n",
    "\n",
    "# Multiply x and y by each other and print\n",
    "print(x * y)"
   ]
  },
  {
   "source": [
    "### Matrices\n",
    "\n",
    "Use array to create matrices.\n",
    "\n",
    "You can also use ndarray, but it is not as useful as array.\n",
    "\n",
    "In numpy, there is a matrix class. However, it is limited to 2-D matrices, and performing operations using them is complicated if the end result is not 2-D. Additionally, using matrix does _not_ seem to increase efficient. So, there's no point in using them it seems."
   ],
   "cell_type": "markdown",
   "metadata": {}
  },
  {
   "cell_type": "code",
   "execution_count": 4,
   "metadata": {},
   "outputs": [
    {
     "output_type": "stream",
     "name": "stdout",
     "text": [
      "[[1 2]\n [3 4]]\n"
     ]
    }
   ],
   "source": [
    "x = np.array([[1, 2], [3, 4]])\n",
    "print (x)"
   ]
  },
  {
   "cell_type": "code",
   "execution_count": 5,
   "metadata": {},
   "outputs": [
    {
     "output_type": "stream",
     "name": "stdout",
     "text": [
      "[[4. 4.]\n [4. 4.]]\n"
     ]
    }
   ],
   "source": [
    "x = np.ndarray(shape = (2,2))\n",
    "x.fill(4)\n",
    "print (x)"
   ]
  },
  {
   "source": [
    "### Matrix-Vector Compatibility"
   ],
   "cell_type": "markdown",
   "metadata": {}
  },
  {
   "cell_type": "code",
   "execution_count": 6,
   "metadata": {},
   "outputs": [
    {
     "output_type": "stream",
     "name": "stdout",
     "text": [
      "[[1 2 3]\n [3 4 5]]\n[[1]\n [2]\n [3]]\n"
     ]
    }
   ],
   "source": [
    "# 2x3 matrix\n",
    "A = np.array([[1, 2, 3], \n",
    "             [3, 4, 5]])\n",
    "b = np.array([1,2,3]) # vertical vector\n",
    "b = np.array([[1,2,3]]) # horizontal vector\n",
    "b = np.array([[1,2,3,]]).T # horizontal vector transposed\n",
    "\n",
    "print (A)\n",
    "print (b)"
   ]
  },
  {
   "cell_type": "code",
   "execution_count": 7,
   "metadata": {},
   "outputs": [
    {
     "output_type": "stream",
     "name": "stdout",
     "text": [
      "[[4 0]\n [0 1]]\n[1 1]\nusing matmul:[4 1]\nusing A@b: [4 1]\n"
     ]
    }
   ],
   "source": [
    "# matrix multiplication on A and b\n",
    "\n",
    "# 2x2 matrix (A) to stretch first component of b by 4\n",
    "A = np.array([[4, 0], \n",
    "             [0, 1]])\n",
    "b = np.array([1,1])\n",
    "print (A)\n",
    "print (b)\n",
    "print (f\"using matmul:{np.matmul(A,b)}\")\n",
    "print (f\"using A@b: {A@b}\")"
   ]
  },
  {
   "cell_type": "code",
   "execution_count": 8,
   "metadata": {},
   "outputs": [
    {
     "output_type": "stream",
     "name": "stdout",
     "text": [
      "[[-1  0]\n [ 0  1]]\n[2 1]\nusing matmul:[-2  1]\nusing A@b: [-2  1]\nReflect b about the x-axis: [-2  1]\n"
     ]
    },
    {
     "output_type": "display_data",
     "data": {
      "text/plain": "<Figure size 432x288 with 1 Axes>",
      "image/svg+xml": "<?xml version=\"1.0\" encoding=\"utf-8\" standalone=\"no\"?>\r\n<!DOCTYPE svg PUBLIC \"-//W3C//DTD SVG 1.1//EN\"\r\n  \"http://www.w3.org/Graphics/SVG/1.1/DTD/svg11.dtd\">\r\n<!-- Created with matplotlib (https://matplotlib.org/) -->\r\n<svg height=\"248.518125pt\" version=\"1.1\" viewBox=\"0 0 370.942187 248.518125\" width=\"370.942187pt\" xmlns=\"http://www.w3.org/2000/svg\" xmlns:xlink=\"http://www.w3.org/1999/xlink\">\r\n <defs>\r\n  <style type=\"text/css\">\r\n*{stroke-linecap:butt;stroke-linejoin:round;}\r\n  </style>\r\n </defs>\r\n <g id=\"figure_1\">\r\n  <g id=\"patch_1\">\r\n   <path d=\"M 0 248.518125 \r\nL 370.942187 248.518125 \r\nL 370.942187 0 \r\nL 0 0 \r\nz\r\n\" style=\"fill:none;\"/>\r\n  </g>\r\n  <g id=\"axes_1\">\r\n   <g id=\"patch_2\">\r\n    <path d=\"M 28.942188 224.64 \r\nL 363.742188 224.64 \r\nL 363.742188 7.2 \r\nL 28.942188 7.2 \r\nz\r\n\" style=\"fill:#ffffff;\"/>\r\n   </g>\r\n   <g id=\"patch_3\">\r\n    <path clip-path=\"url(#pe38311e702)\" d=\"M 299.77673 92.717368 \r\nL 297.281278 95.148421 \r\nL 296.787178 94.185724 \r\nL 252.147178 115.929724 \r\nL 252.137197 115.910276 \r\nL 296.777197 94.166276 \r\nL 296.283097 93.203579 \r\nz\r\n\" style=\"fill:#1f77b4;stroke:#000000;stroke-linejoin:miter;\"/>\r\n   </g>\r\n   <g id=\"patch_4\">\r\n    <path clip-path=\"url(#pe38311e702)\" d=\"M 204.507645 92.717368 \r\nL 208.001278 93.203579 \r\nL 207.507178 94.166276 \r\nL 252.147178 115.910276 \r\nL 252.137197 115.929724 \r\nL 207.497197 94.185724 \r\nL 207.003097 95.148421 \r\nz\r\n\" style=\"fill:#ff0000;stroke:#ff0000;stroke-linejoin:miter;\"/>\r\n   </g>\r\n   <g id=\"patch_5\">\r\n    <path clip-path=\"url(#pe38311e702)\" d=\"M 299.77673 139.122632 \r\nL 296.283097 138.636421 \r\nL 296.777197 137.673724 \r\nL 252.137197 115.929724 \r\nL 252.147178 115.910276 \r\nL 296.787178 137.654276 \r\nL 297.281278 136.691579 \r\nz\r\n\" style=\"fill:#0000ff;stroke:#0000ff;stroke-linejoin:miter;\"/>\r\n   </g>\r\n   <g id=\"patch_6\">\r\n    <path clip-path=\"url(#pe38311e702)\" d=\"M 70.33415 160.199054 \r\nL 73.311518 158.353261 \r\nL 73.579481 159.397453 \r\nL 252.139481 115.909453 \r\nL 252.144894 115.930547 \r\nL 73.584894 159.418547 \r\nL 73.852857 160.462739 \r\nz\r\n\" style=\"fill:#008000;stroke:#008000;stroke-linejoin:miter;\"/>\r\n   </g>\r\n   <g id=\"matplotlib.axis_1\">\r\n    <g id=\"xtick_1\">\r\n     <g id=\"line2d_1\">\r\n      <defs>\r\n       <path d=\"M 0 0 \r\nL 0 3.5 \r\n\" id=\"mdb67c26d89\" style=\"stroke:#000000;stroke-width:0.8;\"/>\r\n      </defs>\r\n      <g>\r\n       <use style=\"stroke:#000000;stroke-width:0.8;\" x=\"28.942187\" xlink:href=\"#mdb67c26d89\" y=\"224.64\"/>\r\n      </g>\r\n     </g>\r\n     <g id=\"text_1\">\r\n      <!-- −10 -->\r\n      <defs>\r\n       <path d=\"M 10.59375 35.5 \r\nL 73.1875 35.5 \r\nL 73.1875 27.203125 \r\nL 10.59375 27.203125 \r\nz\r\n\" id=\"DejaVuSans-8722\"/>\r\n       <path d=\"M 12.40625 8.296875 \r\nL 28.515625 8.296875 \r\nL 28.515625 63.921875 \r\nL 10.984375 60.40625 \r\nL 10.984375 69.390625 \r\nL 28.421875 72.90625 \r\nL 38.28125 72.90625 \r\nL 38.28125 8.296875 \r\nL 54.390625 8.296875 \r\nL 54.390625 0 \r\nL 12.40625 0 \r\nz\r\n\" id=\"DejaVuSans-49\"/>\r\n       <path d=\"M 31.78125 66.40625 \r\nQ 24.171875 66.40625 20.328125 58.90625 \r\nQ 16.5 51.421875 16.5 36.375 \r\nQ 16.5 21.390625 20.328125 13.890625 \r\nQ 24.171875 6.390625 31.78125 6.390625 \r\nQ 39.453125 6.390625 43.28125 13.890625 \r\nQ 47.125 21.390625 47.125 36.375 \r\nQ 47.125 51.421875 43.28125 58.90625 \r\nQ 39.453125 66.40625 31.78125 66.40625 \r\nz\r\nM 31.78125 74.21875 \r\nQ 44.046875 74.21875 50.515625 64.515625 \r\nQ 56.984375 54.828125 56.984375 36.375 \r\nQ 56.984375 17.96875 50.515625 8.265625 \r\nQ 44.046875 -1.421875 31.78125 -1.421875 \r\nQ 19.53125 -1.421875 13.0625 8.265625 \r\nQ 6.59375 17.96875 6.59375 36.375 \r\nQ 6.59375 54.828125 13.0625 64.515625 \r\nQ 19.53125 74.21875 31.78125 74.21875 \r\nz\r\n\" id=\"DejaVuSans-48\"/>\r\n      </defs>\r\n      <g transform=\"translate(18.389844 239.238437)scale(0.1 -0.1)\">\r\n       <use xlink:href=\"#DejaVuSans-8722\"/>\r\n       <use x=\"83.789062\" xlink:href=\"#DejaVuSans-49\"/>\r\n       <use x=\"147.412109\" xlink:href=\"#DejaVuSans-48\"/>\r\n      </g>\r\n     </g>\r\n    </g>\r\n    <g id=\"xtick_2\">\r\n     <g id=\"line2d_2\">\r\n      <g>\r\n       <use style=\"stroke:#000000;stroke-width:0.8;\" x=\"73.582187\" xlink:href=\"#mdb67c26d89\" y=\"224.64\"/>\r\n      </g>\r\n     </g>\r\n     <g id=\"text_2\">\r\n      <!-- −8 -->\r\n      <defs>\r\n       <path d=\"M 31.78125 34.625 \r\nQ 24.75 34.625 20.71875 30.859375 \r\nQ 16.703125 27.09375 16.703125 20.515625 \r\nQ 16.703125 13.921875 20.71875 10.15625 \r\nQ 24.75 6.390625 31.78125 6.390625 \r\nQ 38.8125 6.390625 42.859375 10.171875 \r\nQ 46.921875 13.96875 46.921875 20.515625 \r\nQ 46.921875 27.09375 42.890625 30.859375 \r\nQ 38.875 34.625 31.78125 34.625 \r\nz\r\nM 21.921875 38.8125 \r\nQ 15.578125 40.375 12.03125 44.71875 \r\nQ 8.5 49.078125 8.5 55.328125 \r\nQ 8.5 64.0625 14.71875 69.140625 \r\nQ 20.953125 74.21875 31.78125 74.21875 \r\nQ 42.671875 74.21875 48.875 69.140625 \r\nQ 55.078125 64.0625 55.078125 55.328125 \r\nQ 55.078125 49.078125 51.53125 44.71875 \r\nQ 48 40.375 41.703125 38.8125 \r\nQ 48.828125 37.15625 52.796875 32.3125 \r\nQ 56.78125 27.484375 56.78125 20.515625 \r\nQ 56.78125 9.90625 50.3125 4.234375 \r\nQ 43.84375 -1.421875 31.78125 -1.421875 \r\nQ 19.734375 -1.421875 13.25 4.234375 \r\nQ 6.78125 9.90625 6.78125 20.515625 \r\nQ 6.78125 27.484375 10.78125 32.3125 \r\nQ 14.796875 37.15625 21.921875 38.8125 \r\nz\r\nM 18.3125 54.390625 \r\nQ 18.3125 48.734375 21.84375 45.5625 \r\nQ 25.390625 42.390625 31.78125 42.390625 \r\nQ 38.140625 42.390625 41.71875 45.5625 \r\nQ 45.3125 48.734375 45.3125 54.390625 \r\nQ 45.3125 60.0625 41.71875 63.234375 \r\nQ 38.140625 66.40625 31.78125 66.40625 \r\nQ 25.390625 66.40625 21.84375 63.234375 \r\nQ 18.3125 60.0625 18.3125 54.390625 \r\nz\r\n\" id=\"DejaVuSans-56\"/>\r\n      </defs>\r\n      <g transform=\"translate(66.211094 239.238437)scale(0.1 -0.1)\">\r\n       <use xlink:href=\"#DejaVuSans-8722\"/>\r\n       <use x=\"83.789062\" xlink:href=\"#DejaVuSans-56\"/>\r\n      </g>\r\n     </g>\r\n    </g>\r\n    <g id=\"xtick_3\">\r\n     <g id=\"line2d_3\">\r\n      <g>\r\n       <use style=\"stroke:#000000;stroke-width:0.8;\" x=\"118.222187\" xlink:href=\"#mdb67c26d89\" y=\"224.64\"/>\r\n      </g>\r\n     </g>\r\n     <g id=\"text_3\">\r\n      <!-- −6 -->\r\n      <defs>\r\n       <path d=\"M 33.015625 40.375 \r\nQ 26.375 40.375 22.484375 35.828125 \r\nQ 18.609375 31.296875 18.609375 23.390625 \r\nQ 18.609375 15.53125 22.484375 10.953125 \r\nQ 26.375 6.390625 33.015625 6.390625 \r\nQ 39.65625 6.390625 43.53125 10.953125 \r\nQ 47.40625 15.53125 47.40625 23.390625 \r\nQ 47.40625 31.296875 43.53125 35.828125 \r\nQ 39.65625 40.375 33.015625 40.375 \r\nz\r\nM 52.59375 71.296875 \r\nL 52.59375 62.3125 \r\nQ 48.875 64.0625 45.09375 64.984375 \r\nQ 41.3125 65.921875 37.59375 65.921875 \r\nQ 27.828125 65.921875 22.671875 59.328125 \r\nQ 17.53125 52.734375 16.796875 39.40625 \r\nQ 19.671875 43.65625 24.015625 45.921875 \r\nQ 28.375 48.1875 33.59375 48.1875 \r\nQ 44.578125 48.1875 50.953125 41.515625 \r\nQ 57.328125 34.859375 57.328125 23.390625 \r\nQ 57.328125 12.15625 50.6875 5.359375 \r\nQ 44.046875 -1.421875 33.015625 -1.421875 \r\nQ 20.359375 -1.421875 13.671875 8.265625 \r\nQ 6.984375 17.96875 6.984375 36.375 \r\nQ 6.984375 53.65625 15.1875 63.9375 \r\nQ 23.390625 74.21875 37.203125 74.21875 \r\nQ 40.921875 74.21875 44.703125 73.484375 \r\nQ 48.484375 72.75 52.59375 71.296875 \r\nz\r\n\" id=\"DejaVuSans-54\"/>\r\n      </defs>\r\n      <g transform=\"translate(110.851094 239.238437)scale(0.1 -0.1)\">\r\n       <use xlink:href=\"#DejaVuSans-8722\"/>\r\n       <use x=\"83.789062\" xlink:href=\"#DejaVuSans-54\"/>\r\n      </g>\r\n     </g>\r\n    </g>\r\n    <g id=\"xtick_4\">\r\n     <g id=\"line2d_4\">\r\n      <g>\r\n       <use style=\"stroke:#000000;stroke-width:0.8;\" x=\"162.862187\" xlink:href=\"#mdb67c26d89\" y=\"224.64\"/>\r\n      </g>\r\n     </g>\r\n     <g id=\"text_4\">\r\n      <!-- −4 -->\r\n      <defs>\r\n       <path d=\"M 37.796875 64.3125 \r\nL 12.890625 25.390625 \r\nL 37.796875 25.390625 \r\nz\r\nM 35.203125 72.90625 \r\nL 47.609375 72.90625 \r\nL 47.609375 25.390625 \r\nL 58.015625 25.390625 \r\nL 58.015625 17.1875 \r\nL 47.609375 17.1875 \r\nL 47.609375 0 \r\nL 37.796875 0 \r\nL 37.796875 17.1875 \r\nL 4.890625 17.1875 \r\nL 4.890625 26.703125 \r\nz\r\n\" id=\"DejaVuSans-52\"/>\r\n      </defs>\r\n      <g transform=\"translate(155.491094 239.238437)scale(0.1 -0.1)\">\r\n       <use xlink:href=\"#DejaVuSans-8722\"/>\r\n       <use x=\"83.789062\" xlink:href=\"#DejaVuSans-52\"/>\r\n      </g>\r\n     </g>\r\n    </g>\r\n    <g id=\"xtick_5\">\r\n     <g id=\"line2d_5\">\r\n      <g>\r\n       <use style=\"stroke:#000000;stroke-width:0.8;\" x=\"207.502187\" xlink:href=\"#mdb67c26d89\" y=\"224.64\"/>\r\n      </g>\r\n     </g>\r\n     <g id=\"text_5\">\r\n      <!-- −2 -->\r\n      <defs>\r\n       <path d=\"M 19.1875 8.296875 \r\nL 53.609375 8.296875 \r\nL 53.609375 0 \r\nL 7.328125 0 \r\nL 7.328125 8.296875 \r\nQ 12.9375 14.109375 22.625 23.890625 \r\nQ 32.328125 33.6875 34.8125 36.53125 \r\nQ 39.546875 41.84375 41.421875 45.53125 \r\nQ 43.3125 49.21875 43.3125 52.78125 \r\nQ 43.3125 58.59375 39.234375 62.25 \r\nQ 35.15625 65.921875 28.609375 65.921875 \r\nQ 23.96875 65.921875 18.8125 64.3125 \r\nQ 13.671875 62.703125 7.8125 59.421875 \r\nL 7.8125 69.390625 \r\nQ 13.765625 71.78125 18.9375 73 \r\nQ 24.125 74.21875 28.421875 74.21875 \r\nQ 39.75 74.21875 46.484375 68.546875 \r\nQ 53.21875 62.890625 53.21875 53.421875 \r\nQ 53.21875 48.921875 51.53125 44.890625 \r\nQ 49.859375 40.875 45.40625 35.40625 \r\nQ 44.1875 33.984375 37.640625 27.21875 \r\nQ 31.109375 20.453125 19.1875 8.296875 \r\nz\r\n\" id=\"DejaVuSans-50\"/>\r\n      </defs>\r\n      <g transform=\"translate(200.131094 239.238437)scale(0.1 -0.1)\">\r\n       <use xlink:href=\"#DejaVuSans-8722\"/>\r\n       <use x=\"83.789062\" xlink:href=\"#DejaVuSans-50\"/>\r\n      </g>\r\n     </g>\r\n    </g>\r\n    <g id=\"xtick_6\">\r\n     <g id=\"line2d_6\">\r\n      <g>\r\n       <use style=\"stroke:#000000;stroke-width:0.8;\" x=\"252.142187\" xlink:href=\"#mdb67c26d89\" y=\"224.64\"/>\r\n      </g>\r\n     </g>\r\n     <g id=\"text_6\">\r\n      <!-- 0 -->\r\n      <g transform=\"translate(248.960937 239.238437)scale(0.1 -0.1)\">\r\n       <use xlink:href=\"#DejaVuSans-48\"/>\r\n      </g>\r\n     </g>\r\n    </g>\r\n    <g id=\"xtick_7\">\r\n     <g id=\"line2d_7\">\r\n      <g>\r\n       <use style=\"stroke:#000000;stroke-width:0.8;\" x=\"296.782187\" xlink:href=\"#mdb67c26d89\" y=\"224.64\"/>\r\n      </g>\r\n     </g>\r\n     <g id=\"text_7\">\r\n      <!-- 2 -->\r\n      <g transform=\"translate(293.600937 239.238437)scale(0.1 -0.1)\">\r\n       <use xlink:href=\"#DejaVuSans-50\"/>\r\n      </g>\r\n     </g>\r\n    </g>\r\n    <g id=\"xtick_8\">\r\n     <g id=\"line2d_8\">\r\n      <g>\r\n       <use style=\"stroke:#000000;stroke-width:0.8;\" x=\"341.422187\" xlink:href=\"#mdb67c26d89\" y=\"224.64\"/>\r\n      </g>\r\n     </g>\r\n     <g id=\"text_8\">\r\n      <!-- 4 -->\r\n      <g transform=\"translate(338.240937 239.238437)scale(0.1 -0.1)\">\r\n       <use xlink:href=\"#DejaVuSans-52\"/>\r\n      </g>\r\n     </g>\r\n    </g>\r\n   </g>\r\n   <g id=\"matplotlib.axis_2\">\r\n    <g id=\"ytick_1\">\r\n     <g id=\"line2d_9\">\r\n      <defs>\r\n       <path d=\"M 0 0 \r\nL -3.5 0 \r\n\" id=\"m18523c24e8\" style=\"stroke:#000000;stroke-width:0.8;\"/>\r\n      </defs>\r\n      <g>\r\n       <use style=\"stroke:#000000;stroke-width:0.8;\" x=\"28.942188\" xlink:href=\"#m18523c24e8\" y=\"202.896\"/>\r\n      </g>\r\n     </g>\r\n     <g id=\"text_9\">\r\n      <!-- −4 -->\r\n      <g transform=\"translate(7.2 206.695219)scale(0.1 -0.1)\">\r\n       <use xlink:href=\"#DejaVuSans-8722\"/>\r\n       <use x=\"83.789062\" xlink:href=\"#DejaVuSans-52\"/>\r\n      </g>\r\n     </g>\r\n    </g>\r\n    <g id=\"ytick_2\">\r\n     <g id=\"line2d_10\">\r\n      <g>\r\n       <use style=\"stroke:#000000;stroke-width:0.8;\" x=\"28.942188\" xlink:href=\"#m18523c24e8\" y=\"159.408\"/>\r\n      </g>\r\n     </g>\r\n     <g id=\"text_10\">\r\n      <!-- −2 -->\r\n      <g transform=\"translate(7.2 163.207219)scale(0.1 -0.1)\">\r\n       <use xlink:href=\"#DejaVuSans-8722\"/>\r\n       <use x=\"83.789062\" xlink:href=\"#DejaVuSans-50\"/>\r\n      </g>\r\n     </g>\r\n    </g>\r\n    <g id=\"ytick_3\">\r\n     <g id=\"line2d_11\">\r\n      <g>\r\n       <use style=\"stroke:#000000;stroke-width:0.8;\" x=\"28.942188\" xlink:href=\"#m18523c24e8\" y=\"115.92\"/>\r\n      </g>\r\n     </g>\r\n     <g id=\"text_11\">\r\n      <!-- 0 -->\r\n      <g transform=\"translate(15.579688 119.719219)scale(0.1 -0.1)\">\r\n       <use xlink:href=\"#DejaVuSans-48\"/>\r\n      </g>\r\n     </g>\r\n    </g>\r\n    <g id=\"ytick_4\">\r\n     <g id=\"line2d_12\">\r\n      <g>\r\n       <use style=\"stroke:#000000;stroke-width:0.8;\" x=\"28.942188\" xlink:href=\"#m18523c24e8\" y=\"72.432\"/>\r\n      </g>\r\n     </g>\r\n     <g id=\"text_12\">\r\n      <!-- 2 -->\r\n      <g transform=\"translate(15.579688 76.231219)scale(0.1 -0.1)\">\r\n       <use xlink:href=\"#DejaVuSans-50\"/>\r\n      </g>\r\n     </g>\r\n    </g>\r\n    <g id=\"ytick_5\">\r\n     <g id=\"line2d_13\">\r\n      <g>\r\n       <use style=\"stroke:#000000;stroke-width:0.8;\" x=\"28.942188\" xlink:href=\"#m18523c24e8\" y=\"28.944\"/>\r\n      </g>\r\n     </g>\r\n     <g id=\"text_13\">\r\n      <!-- 4 -->\r\n      <g transform=\"translate(15.579688 32.743219)scale(0.1 -0.1)\">\r\n       <use xlink:href=\"#DejaVuSans-52\"/>\r\n      </g>\r\n     </g>\r\n    </g>\r\n   </g>\r\n   <g id=\"patch_7\">\r\n    <path d=\"M 28.942188 224.64 \r\nL 28.942188 7.2 \r\n\" style=\"fill:none;stroke:#000000;stroke-linecap:square;stroke-linejoin:miter;stroke-width:0.8;\"/>\r\n   </g>\r\n   <g id=\"patch_8\">\r\n    <path d=\"M 363.742188 224.64 \r\nL 363.742188 7.2 \r\n\" style=\"fill:none;stroke:#000000;stroke-linecap:square;stroke-linejoin:miter;stroke-width:0.8;\"/>\r\n   </g>\r\n   <g id=\"patch_9\">\r\n    <path d=\"M 28.942187 224.64 \r\nL 363.742188 224.64 \r\n\" style=\"fill:none;stroke:#000000;stroke-linecap:square;stroke-linejoin:miter;stroke-width:0.8;\"/>\r\n   </g>\r\n   <g id=\"patch_10\">\r\n    <path d=\"M 28.942187 7.2 \r\nL 363.742188 7.2 \r\n\" style=\"fill:none;stroke:#000000;stroke-linecap:square;stroke-linejoin:miter;stroke-width:0.8;\"/>\r\n   </g>\r\n  </g>\r\n </g>\r\n <defs>\r\n  <clipPath id=\"pe38311e702\">\r\n   <rect height=\"217.44\" width=\"334.8\" x=\"28.942188\" y=\"7.2\"/>\r\n  </clipPath>\r\n </defs>\r\n</svg>\r\n",
      "image/png": "[encoded data removed]"
     },
     "metadata": {
      "needs_background": "light"
     }
    }
   ],
   "source": [
    "# matrix multiplication on A and b\n",
    "\n",
    "# 2x2 matrix (A) to reflect b by the y-axis\n",
    "A = np.array([[-1, 0], \n",
    "             [0, 1]])\n",
    "b = np.array([2,1])\n",
    "print (A)\n",
    "print (b)\n",
    "# reflect b\n",
    "print (f\"using matmul:{np.matmul(A,b)}\")\n",
    "print (f\"using A@b: {A@b}\")\n",
    "\n",
    "# 2x2 matrix (B) to reflect b by the x-axis \n",
    "B = np.array([[1, 0], \n",
    "             [0, -1]])\n",
    "print (f\"Reflect b about the x-axis: {A@b}\")\n",
    "C = np.array([[-4, 0], \n",
    "             [0, -2]])\n",
    "Ab = A@b\n",
    "Bb = B@b\n",
    "Cb = C@b \n",
    "# plt.figure(figsize = (10,10))\n",
    "plt.xlim([-10, 5])\n",
    "plt.ylim([-5, 5])\n",
    "plt.arrow(0, 0, b[0], b[1],head_width=0.1)\n",
    "plt.arrow(0,0, Ab[0], Ab[1], head_width=0.1, color = 'r')\n",
    "plt.arrow(0,0, Bb[0], Bb[1], head_width=0.1, color = 'b')\n",
    "plt.arrow(0,0, Cb[0], Cb[1], head_width=0.1, color = 'g')\n",
    "plt.show()"
   ]
  },
  {
   "source": [
    "### Matrix Multiplication - Order Matters\n",
    "\n",
    "Matrix to Matrix multiplication is not commutative. This means that AB is not the same as BA."
   ],
   "cell_type": "markdown",
   "metadata": {}
  },
  {
   "cell_type": "code",
   "execution_count": 9,
   "metadata": {},
   "outputs": [
    {
     "output_type": "stream",
     "name": "stdout",
     "text": [
      "AB = [[ 0.7071068  0.7071068]\n [ 0.7071068 -0.7071068]]\nABb = [1.4142136 0.       ]\nBAb = [ 0.        -1.4142136]\nbBA = [ 0.        -1.4142136]\n"
     ]
    }
   ],
   "source": [
    "# multiply A by B\n",
    "\n",
    "# A is a matrix that ritates a 2-D vector by 45 degrees anticlockwise\n",
    "A = np.array([[0.7071068, -0.7071068], \n",
    "             [0.7071068, 0.7071068]])\n",
    "\n",
    "B = np.array([[1,0],\n",
    "             [0,-1]])\n",
    "\n",
    "b = np.array([1,1])\n",
    "AB = A@B\n",
    "print (f\"AB = {A@B}\")\n",
    "print (f\"ABb = {AB@b}\")\n",
    "print (f\"BAb = {B@A@b}\")\n",
    "print (f\"bBA = {b@B@A}\")"
   ]
  },
  {
   "source": [
    "### Inversing Matrix\n",
    "\n",
    "Inversing matrix is a useful operation that will be used for many things which we will explore later. \n",
    "\n",
    "For now, we want to be able to get the Inverse, and know that the multiplying a matrix with its inverse yields the identity matrix, I. \n",
    "\n",
    "We can use np.linalg.inv() get the inverse, and np.identity() to create the identity matrix."
   ],
   "cell_type": "markdown",
   "metadata": {}
  },
  {
   "cell_type": "code",
   "execution_count": 10,
   "metadata": {},
   "outputs": [
    {
     "output_type": "stream",
     "name": "stdout",
     "text": [
      "2x2 identity matrix: \n[[1. 0.]\n [0. 1.]]\nGet inv of the id matrix: \n[[1. 0.]\n [0. 1.]]\n"
     ]
    }
   ],
   "source": [
    "print (f\"2x2 identity matrix: \\n{np.identity(2)}\")\n",
    "print (f\"Get inv of the id matrix: \\n{np.linalg.inv(np.identity(2))}\")"
   ]
  },
  {
   "cell_type": "code",
   "execution_count": 11,
   "metadata": {},
   "outputs": [
    {
     "output_type": "stream",
     "name": "stdout",
     "text": [
      "A: \n[[ 1  2]\n [-1  2]]\n\nA Inverse: \n[[ 0.5  -0.5 ]\n [ 0.25  0.25]]\n\nMultiply A by A inverse: \n[[1. 0.]\n [0. 1.]]\n\nMultiply A inverse by A: \n[[1. 0.]\n [0. 1.]]\n"
     ]
    }
   ],
   "source": [
    "# matrix A\n",
    "A = np.array([[1,2],\n",
    "             [-1,2]])\n",
    "\n",
    "# inverse of A\n",
    "Ainv = np.linalg.inv(A)\n",
    "\n",
    "# A(Ainv)\n",
    "AAinv = A@Ainv \n",
    "\n",
    "# Ainv(A)\n",
    "AinvA = Ainv@A\n",
    "\n",
    "print (f\"A: \\n{A}\\n\")\n",
    "print (f\"A Inverse: \\n{Ainv}\\n\")\n",
    "print (f\"Multiply A by A inverse: \\n{AAinv}\\n\")\n",
    "print (f\"Multiply A inverse by A: \\n{AinvA}\")"
   ]
  }
 ]
}