{
 "metadata": {
  "language_info": {
   "codemirror_mode": {
    "name": "ipython",
    "version": 3
   },
   "file_extension": ".py",
   "mimetype": "text/x-python",
   "name": "python",
   "nbconvert_exporter": "python",
   "pygments_lexer": "ipython3",
   "version": "3.8.3"
  },
  "orig_nbformat": 4,
  "kernelspec": {
   "name": "python3",
   "display_name": "Python 3.8.3 64-bit ('base': conda)"
  },
  "interpreter": {
   "hash": "f4887bd50a98139acba22dce32608113e9c39367e98f359f3d17adf55ad88d27"
  }
 },
 "nbformat": 4,
 "nbformat_minor": 2,
 "cells": [
  {
   "source": [
    "# Linear Algebra in Python\n",
    "\n",
    "1. Introduction to Linear Algebra\n",
    "1. Matrix-Vector Equations\n",
    "1. Eigenvalues and Eigenvectors\n",
    "1. Principal Component Analysis\n",
    "\n",
    "The content is taken from \"Linear Algebra for Data Science in R\" in Datacamp. The purpose is to take the excellent content and code and put them here in Python code.\n",
    "\n",
    "## Matrix-Vector Equations\n",
    "\n",
    "$A\\vec{x} = \\vec{b}$"
   ],
   "cell_type": "markdown",
   "metadata": {}
  },
  {
   "source": [
    "We will work with a matrix-vector model for team strength in the Women's National Basketball Association (WNBA) at the conclusion of the 2017 season. These team strengths can be used to predict who will win a match between any two teams, for example, using machine learning.\n"
   ],
   "cell_type": "markdown",
   "metadata": {}
  },
  {
   "cell_type": "code",
   "execution_count": 75,
   "metadata": {},
   "outputs": [],
   "source": [
    "import pandas as pd\n",
    "import numpy as np\n",
    "import sympy \n",
    "\n",
    "# load up the massey dataset\n",
    "wnba_massey = pd.read_csv(\"data/wnba_massey.csv\")\n",
    "\n",
    "# load up differentials dataset\n",
    "wnba_diff = pd.read_csv(\"data/wnba_diff.csv\")\n",
    "\n",
    "wnba_massey.set_index(\"Team\", inplace = True)\n",
    "wnba_diff.set_index(\"Team\", inplace = True)"
   ]
  },
  {
   "cell_type": "code",
   "execution_count": 76,
   "metadata": {},
   "outputs": [
    {
     "output_type": "execute_result",
     "data": {
      "text/plain": [
       "             Atlanta  Chicago  Connecticut  Dallas  Indiana  Los.Angeles  \\\n",
       "Team                                                                       \n",
       "Atlanta           33       -4           -2      -3       -3           -3   \n",
       "Chicago           -4       33           -3      -3       -3           -3   \n",
       "Connecticut       -2       -3           34      -3       -3           -3   \n",
       "Dallas            -3       -3           -3      34       -3           -4   \n",
       "Indiana           -3       -3           -3      -3       33           -3   \n",
       "\n",
       "             Minnesota  New.York  Phoenix  San.Antonio  Seattle  Washington  \n",
       "Team                                                                         \n",
       "Atlanta             -3        -3       -3           -3       -3          -3  \n",
       "Chicago             -2        -3       -3           -3       -3          -3  \n",
       "Connecticut         -3        -4       -4           -3       -3          -3  \n",
       "Dallas              -3        -3       -2           -3       -3          -4  \n",
       "Indiana             -3        -3       -3           -3       -2          -4  "
      ],
      "text/html": "<div>\n<style scoped>\n    .dataframe tbody tr th:only-of-type {\n        vertical-align: middle;\n    }\n\n    .dataframe tbody tr th {\n        vertical-align: top;\n    }\n\n    .dataframe thead th {\n        text-align: right;\n    }\n</style>\n<table border=\"1\" class=\"dataframe\">\n  <thead>\n    <tr style=\"text-align: right;\">\n      <th></th>\n      <th>Atlanta</th>\n      <th>Chicago</th>\n      <th>Connecticut</th>\n      <th>Dallas</th>\n      <th>Indiana</th>\n      <th>Los.Angeles</th>\n      <th>Minnesota</th>\n      <th>New.York</th>\n      <th>Phoenix</th>\n      <th>San.Antonio</th>\n      <th>Seattle</th>\n      <th>Washington</th>\n    </tr>\n    <tr>\n      <th>Team</th>\n      <th></th>\n      <th></th>\n      <th></th>\n      <th></th>\n      <th></th>\n      <th></th>\n      <th></th>\n      <th></th>\n      <th></th>\n      <th></th>\n      <th></th>\n      <th></th>\n    </tr>\n  </thead>\n  <tbody>\n    <tr>\n      <th>Atlanta</th>\n      <td>33</td>\n      <td>-4</td>\n      <td>-2</td>\n      <td>-3</td>\n      <td>-3</td>\n      <td>-3</td>\n      <td>-3</td>\n      <td>-3</td>\n      <td>-3</td>\n      <td>-3</td>\n      <td>-3</td>\n      <td>-3</td>\n    </tr>\n    <tr>\n      <th>Chicago</th>\n      <td>-4</td>\n      <td>33</td>\n      <td>-3</td>\n      <td>-3</td>\n      <td>-3</td>\n      <td>-3</td>\n      <td>-2</td>\n      <td>-3</td>\n      <td>-3</td>\n      <td>-3</td>\n      <td>-3</td>\n      <td>-3</td>\n    </tr>\n    <tr>\n      <th>Connecticut</th>\n      <td>-2</td>\n      <td>-3</td>\n      <td>34</td>\n      <td>-3</td>\n      <td>-3</td>\n      <td>-3</td>\n      <td>-3</td>\n      <td>-4</td>\n      <td>-4</td>\n      <td>-3</td>\n      <td>-3</td>\n      <td>-3</td>\n    </tr>\n    <tr>\n      <th>Dallas</th>\n      <td>-3</td>\n      <td>-3</td>\n      <td>-3</td>\n      <td>34</td>\n      <td>-3</td>\n      <td>-4</td>\n      <td>-3</td>\n      <td>-3</td>\n      <td>-2</td>\n      <td>-3</td>\n      <td>-3</td>\n      <td>-4</td>\n    </tr>\n    <tr>\n      <th>Indiana</th>\n      <td>-3</td>\n      <td>-3</td>\n      <td>-3</td>\n      <td>-3</td>\n      <td>33</td>\n      <td>-3</td>\n      <td>-3</td>\n      <td>-3</td>\n      <td>-3</td>\n      <td>-3</td>\n      <td>-2</td>\n      <td>-4</td>\n    </tr>\n  </tbody>\n</table>\n</div>"
     },
     "metadata": {},
     "execution_count": 76
    }
   ],
   "source": [
    "wnba_massey.head()"
   ]
  },
  {
   "cell_type": "code",
   "execution_count": 77,
   "metadata": {},
   "outputs": [
    {
     "output_type": "execute_result",
     "data": {
      "text/plain": [
       "             Differential\n",
       "Team                     \n",
       "Atlanta              -135\n",
       "Chicago              -171\n",
       "Connecticut           152\n",
       "Dallas               -104\n",
       "Indiana              -308"
      ],
      "text/html": "<div>\n<style scoped>\n    .dataframe tbody tr th:only-of-type {\n        vertical-align: middle;\n    }\n\n    .dataframe tbody tr th {\n        vertical-align: top;\n    }\n\n    .dataframe thead th {\n        text-align: right;\n    }\n</style>\n<table border=\"1\" class=\"dataframe\">\n  <thead>\n    <tr style=\"text-align: right;\">\n      <th></th>\n      <th>Differential</th>\n    </tr>\n    <tr>\n      <th>Team</th>\n      <th></th>\n    </tr>\n  </thead>\n  <tbody>\n    <tr>\n      <th>Atlanta</th>\n      <td>-135</td>\n    </tr>\n    <tr>\n      <th>Chicago</th>\n      <td>-171</td>\n    </tr>\n    <tr>\n      <th>Connecticut</th>\n      <td>152</td>\n    </tr>\n    <tr>\n      <th>Dallas</th>\n      <td>-104</td>\n    </tr>\n    <tr>\n      <th>Indiana</th>\n      <td>-308</td>\n    </tr>\n  </tbody>\n</table>\n</div>"
     },
     "metadata": {},
     "execution_count": 77
    }
   ],
   "source": [
    "wnba_diff.head()"
   ]
  },
  {
   "source": [
    "The sum of each column should be zero. Likewise in differentials."
   ],
   "cell_type": "markdown",
   "metadata": {}
  },
  {
   "cell_type": "code",
   "execution_count": 78,
   "metadata": {},
   "outputs": [
    {
     "output_type": "stream",
     "name": "stdout",
     "text": [
      "Sum of Atlanta column: 0\nSum of differentials column: 0\n"
     ]
    }
   ],
   "source": [
    "print (f\"Sum of Atlanta column: {wnba_massey['Atlanta'].sum()}\")\n",
    "print (f\"Sum of differentials column: {wnba_diff['Differential'].sum()}\")"
   ]
  },
  {
   "cell_type": "code",
   "execution_count": 79,
   "metadata": {},
   "outputs": [
    {
     "output_type": "execute_result",
     "data": {
      "text/plain": [
       "array([[33, -4, -2, -3, -3, -3, -3, -3, -3, -3, -3, -3],\n",
       "       [-4, 33, -3, -3, -3, -3, -2, -3, -3, -3, -3, -3],\n",
       "       [-2, -3, 34, -3, -3, -3, -3, -4, -4, -3, -3, -3],\n",
       "       [-3, -3, -3, 34, -3, -4, -3, -3, -2, -3, -3, -4],\n",
       "       [-3, -3, -3, -3, 33, -3, -3, -3, -3, -3, -2, -4],\n",
       "       [-3, -3, -3, -4, -3, 41, -8, -3, -6, -3, -2, -3],\n",
       "       [-3, -2, -3, -3, -3, -8, 41, -3, -4, -3, -3, -6],\n",
       "       [-3, -3, -4, -3, -3, -3, -3, 34, -3, -2, -3, -4],\n",
       "       [-3, -3, -4, -2, -3, -6, -4, -3, 38, -3, -4, -3],\n",
       "       [-3, -3, -3, -3, -3, -3, -3, -2, -3, 32, -4, -2],\n",
       "       [-3, -3, -3, -3, -2, -2, -3, -3, -4, -4, 33, -3],\n",
       "       [-3, -3, -3, -4, -4, -3, -6, -4, -3, -2, -3, 38]], dtype=int64)"
      ]
     },
     "metadata": {},
     "execution_count": 79
    }
   ],
   "source": [
    "wnba_massey_np = wnba_massey.to_numpy()\n",
    "wnba_massey_np"
   ]
  },
  {
   "source": [
    "Is the matrix invertible? If you run the inv function, you will find that the inverse matrix is a singular value - 3.12749974e+13. This can't be right. \n",
    "\n",
    "Another thing is that if you try to work out the row reduced echelon form for this matrix, you will find that there it is not full rank. \n",
    "\n",
    "Lastly, the rows are all a linear combination of the other rows. Eg, the first row is the linear combination of 1* all the other rows.\n",
    "\n",
    "Hence, actually this is matrix is not invertible."
   ],
   "cell_type": "markdown",
   "metadata": {}
  },
  {
   "cell_type": "code",
   "execution_count": 119,
   "metadata": {},
   "outputs": [
    {
     "output_type": "execute_result",
     "data": {
      "text/plain": [
       "array([[ 0.02550536, -0.00154152, -0.00306778, -0.00231444, -0.00231485,\n",
       "        -0.0023182 , -0.00233334, -0.00233523, -0.0023339 , -0.00231419,\n",
       "        -0.00231523, -0.00231668],\n",
       "       [-0.00154152,  0.02550234, -0.00233635, -0.00231753, -0.00231617,\n",
       "        -0.00238962, -0.00295924, -0.00231672, -0.00233643, -0.00231336,\n",
       "        -0.00231326, -0.00236215],\n",
       "       [-0.00306778, -0.00233635,  0.02477036, -0.00233099, -0.00231473,\n",
       "        -0.00226766, -0.0022925 , -0.00158168, -0.00164941, -0.00233585,\n",
       "        -0.00229823, -0.00229518],\n",
       "       [-0.00231444, -0.00231753, -0.00233099,  0.02476277, -0.00229527,\n",
       "        -0.0017295 , -0.00221663, -0.00229661, -0.00293126, -0.00233544,\n",
       "        -0.00234931, -0.00164578],\n",
       "       [-0.00231485, -0.00231617, -0.00231473, -0.00229527,  0.02550349,\n",
       "        -0.00229233, -0.00226597, -0.00229518, -0.00233136, -0.00235706,\n",
       "        -0.0030898 , -0.00163076],\n",
       "       [-0.0023182 , -0.00238962, -0.00226766, -0.0017295 , -0.00229233,\n",
       "         0.02086316,  0.00037463, -0.00230717, -0.00058095, -0.00233816,\n",
       "        -0.00291176, -0.00210245],\n",
       "       [-0.00233334, -0.00295924, -0.0022925 , -0.00221663, -0.00226597,\n",
       "         0.00037463,  0.02086603, -0.00226681, -0.00155587, -0.00236643,\n",
       "        -0.00237123, -0.00061264],\n",
       "       [-0.00233523, -0.00231672, -0.00158168, -0.00229661, -0.00229518,\n",
       "        -0.00230717, -0.00226681,  0.02477199, -0.00229619, -0.00310892,\n",
       "        -0.00233711, -0.00163036],\n",
       "       [-0.0023339 , -0.00233643, -0.00164941, -0.00293126, -0.00233136,\n",
       "        -0.00058095, -0.00155587, -0.00229619,  0.02226757, -0.00229833,\n",
       "        -0.00167922, -0.00227467],\n",
       "       [-0.00231419, -0.00231336, -0.00233585, -0.00233544, -0.00235706,\n",
       "        -0.00233816, -0.00236643, -0.00310892, -0.00229833,  0.02632276,\n",
       "        -0.00151705, -0.00303797],\n",
       "       [-0.00231523, -0.00231326, -0.00229823, -0.00234931, -0.0030898 ,\n",
       "        -0.00291176, -0.00237123, -0.00233711, -0.00167922, -0.00151705,\n",
       "         0.02554089, -0.00235869],\n",
       "       [-0.00231668, -0.00236215, -0.00229518, -0.00164578, -0.00163076,\n",
       "        -0.00210245, -0.00061264, -0.00163036, -0.00227467, -0.00303797,\n",
       "        -0.00235869,  0.02226731]])"
      ]
     },
     "metadata": {},
     "execution_count": 119
    }
   ],
   "source": [
    "# try to invert this matrix - you get singular value for all the cells. WTF?\n",
    "np.linalg.pinv(wnba_massey_np)"
   ]
  },
  {
   "cell_type": "code",
   "execution_count": 81,
   "metadata": {},
   "outputs": [
    {
     "output_type": "execute_result",
     "data": {
      "text/plain": [
       "692.4653280339061"
      ]
     },
     "metadata": {},
     "execution_count": 81
    }
   ],
   "source": [
    "# the determinant is a huge number... at least it is not zero\n",
    "np.linalg.det(wnba_massey_np)"
   ]
  },
  {
   "cell_type": "code",
   "execution_count": 82,
   "metadata": {},
   "outputs": [
    {
     "output_type": "execute_result",
     "data": {
      "text/plain": [
       "(Matrix([\n",
       " [1, 0, 0, 0, 0, 0, 0, 0, 0, 0, 0, -1],\n",
       " [0, 1, 0, 0, 0, 0, 0, 0, 0, 0, 0, -1],\n",
       " [0, 0, 1, 0, 0, 0, 0, 0, 0, 0, 0, -1],\n",
       " [0, 0, 0, 1, 0, 0, 0, 0, 0, 0, 0, -1],\n",
       " [0, 0, 0, 0, 1, 0, 0, 0, 0, 0, 0, -1],\n",
       " [0, 0, 0, 0, 0, 1, 0, 0, 0, 0, 0, -1],\n",
       " [0, 0, 0, 0, 0, 0, 1, 0, 0, 0, 0, -1],\n",
       " [0, 0, 0, 0, 0, 0, 0, 1, 0, 0, 0, -1],\n",
       " [0, 0, 0, 0, 0, 0, 0, 0, 1, 0, 0, -1],\n",
       " [0, 0, 0, 0, 0, 0, 0, 0, 0, 1, 0, -1],\n",
       " [0, 0, 0, 0, 0, 0, 0, 0, 0, 0, 1, -1],\n",
       " [0, 0, 0, 0, 0, 0, 0, 0, 0, 0, 0,  0]]),\n",
       " (0, 1, 2, 3, 4, 5, 6, 7, 8, 9, 10))"
      ]
     },
     "metadata": {},
     "execution_count": 82
    }
   ],
   "source": [
    "# the rref does not look right either. It shows that the matrix is not full rank.\n",
    "sympy.Matrix(wnba_massey_np).rref()"
   ]
  },
  {
   "source": [
    "The goal is in trying to ensure that we can have massey matrix as the A and the differential as the b. Hence, we can then solve $\\vec{x}$ with $A\\vec{x} = \\vec{b}$\n",
    "\n",
    "To do that, we need to have the massey matrix invertible. As seen above, we cannot do so in its current form. What's the solution then? We need to adjust the massey matrix with the following - \n",
    "\n",
    "1. add a row of 1's on the bottom of the matrix \n",
    "2. add a column of -1's to the far right of A\n",
    "3. add 0 to the bottom of the vector of point differentials \n"
   ],
   "cell_type": "markdown",
   "metadata": {}
  },
  {
   "cell_type": "code",
   "execution_count": 94,
   "metadata": {},
   "outputs": [
    {
     "output_type": "stream",
     "name": "stdout",
     "text": [
      "[[33 -4 -2 -3 -3 -3 -3 -3 -3 -3 -3 -3 -1]\n [-4 33 -3 -3 -3 -3 -2 -3 -3 -3 -3 -3 -1]\n [-2 -3 34 -3 -3 -3 -3 -4 -4 -3 -3 -3 -1]\n [-3 -3 -3 34 -3 -4 -3 -3 -2 -3 -3 -4 -1]\n [-3 -3 -3 -3 33 -3 -3 -3 -3 -3 -2 -4 -1]\n [-3 -3 -3 -4 -3 41 -8 -3 -6 -3 -2 -3 -1]\n [-3 -2 -3 -3 -3 -8 41 -3 -4 -3 -3 -6 -1]\n [-3 -3 -4 -3 -3 -3 -3 34 -3 -2 -3 -4 -1]\n [-3 -3 -4 -2 -3 -6 -4 -3 38 -3 -4 -3 -1]\n [-3 -3 -3 -3 -3 -3 -3 -2 -3 32 -4 -2 -1]\n [-3 -3 -3 -3 -2 -2 -3 -3 -4 -4 33 -3 -1]\n [-3 -3 -3 -4 -4 -3 -6 -4 -3 -2 -3 38 -1]\n [ 1  1  1  1  1  1  1  1  1  1  1  1  1]]\n"
     ]
    }
   ],
   "source": [
    "# append row of 1s and column of -1 to massey. Note here that -1 has 12 rows, and 1 has 13 columns.\r\n",
    "row_of_ones = np.full((1,13), 1)\r\n",
    "col_of_minus_ones = np.full((12,1), -1)\r\n",
    "# appends the column. arg = 1 to append as a column. Otherwise, numpy will flatten the array\r\n",
    "adj_wnba_massey_np = np.append(wnba_massey_np, col_of_minus_ones, axis = 1)\r\n",
    "# append row. In here, you will have to add arg axis = 0 to show that this is to be added as a row\r\n",
    "adj_wnba_massey_np = np.append(adj_wnba_massey_np, row_of_ones, axis = 0)\r\n",
    "print (adj_wnba_massey_np)"
   ]
  },
  {
   "cell_type": "code",
   "execution_count": 101,
   "metadata": {},
   "outputs": [
    {
     "output_type": "stream",
     "name": "stdout",
     "text": [
      "[-135 -171  152 -104 -308  292  420   83   -4 -213   -5   -7    0]\n"
     ]
    }
   ],
   "source": [
    "# append 0 to the differentials vector\n",
    "wnba_diff_np = wnba_diff.to_numpy()\n",
    "wnba_diff_np = np.append(wnba_diff_np, 0)\n",
    "print (wnba_diff_np)"
   ]
  },
  {
   "source": [
    "With the adjustments done, we can start to solve by:\n",
    "\n",
    "1. Obtaining the inverse of A\n",
    "2. Apply the inverse to the differentials"
   ],
   "cell_type": "markdown",
   "metadata": {}
  },
  {
   "cell_type": "code",
   "execution_count": 105,
   "metadata": {},
   "outputs": [
    {
     "output_type": "execute_result",
     "data": {
      "text/plain": [
       "array([[0.0324498 , 0.00540293, 0.00387667, 0.00463   , 0.00462959,\n",
       "        0.00462624, 0.00461111, 0.00460921, 0.00461055, 0.00463025,\n",
       "        0.00462921, 0.00462777, 0.08333333],\n",
       "       [0.00540293, 0.03244679, 0.00460809, 0.00462691, 0.00462827,\n",
       "        0.00455483, 0.0039852 , 0.00462773, 0.00460802, 0.00463108,\n",
       "        0.00463119, 0.0045823 , 0.08333333],\n",
       "       [0.00387667, 0.00460809, 0.03171481, 0.00461345, 0.00462971,\n",
       "        0.00467679, 0.00465194, 0.00536276, 0.00529504, 0.0046086 ,\n",
       "        0.00464622, 0.00464926, 0.08333333],\n",
       "       [0.00463   , 0.00462691, 0.00461345, 0.03170722, 0.00464917,\n",
       "        0.00521494, 0.00472781, 0.00464783, 0.00401319, 0.00460901,\n",
       "        0.00459513, 0.00529867, 0.08333333],\n",
       "       [0.00462959, 0.00462827, 0.00462971, 0.00464917, 0.03244794,\n",
       "        0.00465211, 0.00467848, 0.00464926, 0.00461309, 0.00458738,\n",
       "        0.00385464, 0.00531369, 0.08333333]])"
      ]
     },
     "metadata": {},
     "execution_count": 105
    }
   ],
   "source": [
    "adj_wnba_inv = np.linalg.inv(adj_wnba_massey_np)\n",
    "adj_wnba_inv[:5]"
   ]
  },
  {
   "cell_type": "code",
   "execution_count": 109,
   "metadata": {},
   "outputs": [
    {
     "output_type": "execute_result",
     "data": {
      "text/plain": [
       "array([-4.013, -5.156,  4.31 , -2.608, -8.533,  7.85 , 10.612,  2.542,\n",
       "        0.898, -6.182, -0.267,  0.547,  0.   ])"
      ]
     },
     "metadata": {},
     "execution_count": 109
    }
   ],
   "source": [
    "# time to solve\n",
    "r = adj_wnba_inv@wnba_diff_np\n",
    "r.round(3)"
   ]
  },
  {
   "source": [
    "### Putting it back to the dataframe\n",
    "\n",
    "With this solved, we can append it back to which ever dataframe to see which state did the best"
   ],
   "cell_type": "markdown",
   "metadata": {}
  },
  {
   "cell_type": "code",
   "execution_count": 113,
   "metadata": {},
   "outputs": [
    {
     "output_type": "execute_result",
     "data": {
      "text/plain": [
       "array([-4.01293846, -5.15625981,  4.30952472, -2.60812898, -8.53295813,\n",
       "        7.85032664, 10.61241455,  2.54156514,  0.89791105, -6.1815735 ,\n",
       "       -0.2666953 ,  0.54681208])"
      ]
     },
     "metadata": {},
     "execution_count": 113
    }
   ],
   "source": [
    "R = r[:-1]"
   ]
  },
  {
   "cell_type": "code",
   "execution_count": 114,
   "metadata": {},
   "outputs": [],
   "source": [
    "wnba_massey['Rating'] = R.tolist()"
   ]
  },
  {
   "cell_type": "code",
   "execution_count": 118,
   "metadata": {},
   "outputs": [
    {
     "output_type": "execute_result",
     "data": {
      "text/plain": [
       "Team\n",
       "Minnesota      10.612415\n",
       "Los.Angeles     7.850327\n",
       "Connecticut     4.309525\n",
       "New.York        2.541565\n",
       "Phoenix         0.897911\n",
       "Washington      0.546812\n",
       "Seattle        -0.266695\n",
       "Dallas         -2.608129\n",
       "Atlanta        -4.012938\n",
       "Chicago        -5.156260\n",
       "San.Antonio    -6.181574\n",
       "Indiana        -8.532958\n",
       "Name: Rating, dtype: float64"
      ]
     },
     "metadata": {},
     "execution_count": 118
    }
   ],
   "source": [
    "wnba_massey.sort_values(by = 'Rating', ascending = False)['Rating']"
   ]
  }
 ]
}